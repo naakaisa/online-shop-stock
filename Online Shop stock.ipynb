{
 "cells": [
  {
   "cell_type": "code",
   "execution_count": 26,
   "metadata": {},
   "outputs": [],
   "source": [
    "# Create Online shop stock using lists and dictionaries\n",
    "\n",
    "products = [{\n",
    "    'id': 'W-09',\n",
    "    'name': 'tango shoes',\n",
    "    'price': 200,\n",
    "    'categories': 'ladies'  \n",
    "}, {\n",
    "    'id': 'W-09',\n",
    "    'name': 'tango shoes',\n",
    "    'price': 230,\n",
    "    'categories': 'ladies'  \n",
    "}, {\n",
    "    'id': 'W-01',\n",
    "    'name': 'lacey dress',\n",
    "    'price': 400,\n",
    "    'categories': 'women\\'s clothing'  \n",
    "}, {\n",
    "    'id': 'W-19',\n",
    "    'name': 'hair band',\n",
    "    'price': 20,\n",
    "    'categories': 'ladies accessories'  \n",
    "}, {\n",
    "    'id': 'W-29',\n",
    "    'name': 'earring',\n",
    "    'price': 50,\n",
    "    'categories': 'ladies accessories'  \n",
    "}, {\n",
    "    'id': 'W-15',\n",
    "    'name': 'nail polish',\n",
    "    'price': 5,\n",
    "    'categories': 'ladies accessories'  \n",
    "}, {\n",
    "    'id': 'W-13',\n",
    "    'name': 'Men\\'s suit',\n",
    "    'price': 500,\n",
    "    'categories': 'men\\'s wear'  \n",
    "}]"
   ]
  },
  {
   "cell_type": "markdown",
   "metadata": {},
   "source": [
    "## Analysing Online shop stock "
   ]
  },
  {
   "cell_type": "markdown",
   "metadata": {},
   "source": [
    "### 1.Find the most expensive item"
   ]
  },
  {
   "cell_type": "code",
   "execution_count": 13,
   "metadata": {},
   "outputs": [
    {
     "data": {
      "text/plain": [
       "{'id': 'W-13', 'name': \"Men's suit\", 'price': 500, 'categories': \"men's wear\"}"
      ]
     },
     "execution_count": 13,
     "metadata": {},
     "output_type": "execute_result"
    }
   ],
   "source": [
    "most_expensive_product = {}\n",
    "for product in products:\n",
    "    price = product['price']\n",
    "    if price >= most_expensive_product.get('price', 0):\n",
    "        most_expensive_product = product\n",
    "\n",
    "most_expensive_product"
   ]
  },
  {
   "cell_type": "markdown",
   "metadata": {},
   "source": [
    "### 2. Find the most expensive Ladies accessories"
   ]
  },
  {
   "cell_type": "code",
   "execution_count": 27,
   "metadata": {},
   "outputs": [
    {
     "data": {
      "text/plain": [
       "{'id': 'W-29',\n",
       " 'name': 'earring',\n",
       " 'price': 50,\n",
       " 'categories': 'ladies accessories'}"
      ]
     },
     "execution_count": 27,
     "metadata": {},
     "output_type": "execute_result"
    }
   ],
   "source": [
    "most_expensive_product = {}\n",
    "for product in products:\n",
    "    price = product['price']\n",
    "    cat = product['categories']\n",
    "    if price >= most_expensive_product.get('price', 0) and cat == 'ladies accessories':\n",
    "        most_expensive_product = product\n",
    "\n",
    "most_expensive_product"
   ]
  },
  {
   "cell_type": "markdown",
   "metadata": {},
   "source": [
    "### 3. Find the most expensive item per category"
   ]
  },
  {
   "cell_type": "code",
   "execution_count": 28,
   "metadata": {},
   "outputs": [
    {
     "data": {
      "text/plain": [
       "[{'id': 'W-09', 'name': 'tango shoes', 'price': 200, 'categories': 'ladies'},\n",
       " {'id': 'W-09', 'name': 'tango shoes', 'price': 230, 'categories': 'ladies'}]"
      ]
     },
     "execution_count": 28,
     "metadata": {},
     "output_type": "execute_result"
    }
   ],
   "source": [
    "ladies = []\n",
    "for product in products:\n",
    "    cat = product['categories']\n",
    "    if cat == 'ladies':\n",
    "        ladies.append(product)\n",
    "ladies"
   ]
  },
  {
   "cell_type": "markdown",
   "metadata": {},
   "source": [
    "### 4. Count the number of items per category"
   ]
  },
  {
   "cell_type": "code",
   "execution_count": 30,
   "metadata": {},
   "outputs": [
    {
     "data": {
      "text/plain": [
       "{'ladies': 2, \"women's clothing\": 1, 'ladies accessories': 3, \"men's wear\": 1}"
      ]
     },
     "execution_count": 30,
     "metadata": {},
     "output_type": "execute_result"
    }
   ],
   "source": [
    "result = {}\n",
    "for product in products:\n",
    "    cat = product['categories']  \n",
    "    result[cat] = result.get(cat, 0) + 1\n",
    "\n",
    "result"
   ]
  },
  {
   "cell_type": "markdown",
   "metadata": {},
   "source": [
    "### 5. Calculate the total sum of prices of products"
   ]
  },
  {
   "cell_type": "code",
   "execution_count": 32,
   "metadata": {},
   "outputs": [
    {
     "data": {
      "text/plain": [
       "[200, 230, 400, 20, 50, 5, 500]"
      ]
     },
     "execution_count": 32,
     "metadata": {},
     "output_type": "execute_result"
    }
   ],
   "source": [
    "product_prices = []\n",
    "for product in products:\n",
    "    product_prices.append(product['price'])\n",
    "product_prices"
   ]
  },
  {
   "cell_type": "code",
   "execution_count": 51,
   "metadata": {},
   "outputs": [
    {
     "data": {
      "text/plain": [
       "1405"
      ]
     },
     "execution_count": 51,
     "metadata": {},
     "output_type": "execute_result"
    }
   ],
   "source": [
    "# Sum of all product prices\n",
    "sum(product_prices)"
   ]
  },
  {
   "cell_type": "markdown",
   "metadata": {},
   "source": [
    "### 6. List all products (option 1)"
   ]
  },
  {
   "cell_type": "code",
   "execution_count": 34,
   "metadata": {},
   "outputs": [
    {
     "data": {
      "text/plain": [
       "['tango shoes',\n",
       " 'tango shoes',\n",
       " 'lacey dress',\n",
       " 'hair band',\n",
       " 'earring',\n",
       " 'nail polish',\n",
       " \"Men's suit\"]"
      ]
     },
     "execution_count": 34,
     "metadata": {},
     "output_type": "execute_result"
    }
   ],
   "source": [
    "# Create a list of all products in stock\n",
    "product_names = []\n",
    "for product in products:\n",
    "    product_names.append(product['name'])\n",
    "product_names"
   ]
  },
  {
   "cell_type": "markdown",
   "metadata": {},
   "source": [
    "### 6. List all products (option 2)"
   ]
  },
  {
   "cell_type": "code",
   "execution_count": 55,
   "metadata": {},
   "outputs": [
    {
     "name": "stdout",
     "output_type": "stream",
     "text": [
      "['tango shoes']\n",
      "['tango shoes']\n",
      "['lacey dress']\n",
      "['hair band']\n",
      "['earring']\n",
      "['nail polish']\n",
      "[\"Men's suit\"]\n"
     ]
    }
   ],
   "source": [
    "for product in products:\n",
    "    product_name = [product['name']]\n",
    "    print(product_name)"
   ]
  },
  {
   "cell_type": "markdown",
   "metadata": {},
   "source": [
    "### 7. List all product categories"
   ]
  },
  {
   "cell_type": "code",
   "execution_count": 35,
   "metadata": {},
   "outputs": [
    {
     "data": {
      "text/plain": [
       "['ladies',\n",
       " 'ladies',\n",
       " \"women's clothing\",\n",
       " 'ladies accessories',\n",
       " 'ladies accessories',\n",
       " 'ladies accessories',\n",
       " \"men's wear\"]"
      ]
     },
     "execution_count": 35,
     "metadata": {},
     "output_type": "execute_result"
    }
   ],
   "source": [
    "product_categories = []\n",
    "for product in products:\n",
    "    product_categories.append(product['categories'])\n",
    "product_names"
   ]
  },
  {
   "cell_type": "markdown",
   "metadata": {},
   "source": [
    "### 8. List all products and their categories"
   ]
  },
  {
   "cell_type": "code",
   "execution_count": 50,
   "metadata": {},
   "outputs": [
    {
     "name": "stdout",
     "output_type": "stream",
     "text": [
      "(['tango shoes'], ['ladies'])\n",
      "(['tango shoes'], ['ladies'])\n",
      "(['lacey dress'], [\"women's clothing\"])\n",
      "(['hair band'], ['ladies accessories'])\n",
      "(['earring'], ['ladies accessories'])\n",
      "(['nail polish'], ['ladies accessories'])\n",
      "([\"Men's suit\"], [\"men's wear\"])\n"
     ]
    }
   ],
   "source": [
    "# expected- dictionary with product details\n",
    "for product in products:\n",
    "    product_details = [product['name']],[product['categories']]\n",
    "\n",
    "    #roduct_details.append(product['name'] + (product['categories']))\n",
    "    print(product_details)\n"
   ]
  },
  {
   "cell_type": "code",
   "execution_count": null,
   "metadata": {},
   "outputs": [],
   "source": []
  }
 ],
 "metadata": {
  "kernelspec": {
   "display_name": "Python 3",
   "language": "python",
   "name": "python3"
  },
  "language_info": {
   "codemirror_mode": {
    "name": "ipython",
    "version": 3
   },
   "file_extension": ".py",
   "mimetype": "text/x-python",
   "name": "python",
   "nbconvert_exporter": "python",
   "pygments_lexer": "ipython3",
   "version": "3.6.8"
  }
 },
 "nbformat": 4,
 "nbformat_minor": 2
}
